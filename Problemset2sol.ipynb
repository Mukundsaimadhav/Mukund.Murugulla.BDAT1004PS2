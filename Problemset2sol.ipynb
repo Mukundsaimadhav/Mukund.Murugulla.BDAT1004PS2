{
 "cells": [
  {
   "cell_type": "markdown",
   "id": "9d2fa533",
   "metadata": {},
   "source": [
    "# Question 1:"
   ]
  },
  {
   "cell_type": "code",
   "execution_count": 1,
   "id": "2e45c037",
   "metadata": {},
   "outputs": [],
   "source": [
    "\n",
    "a=0\n",
    "def b():\n",
    "  global a \n",
    "  a=c(a)\n",
    "\n",
    "def c (a):\n",
    "  return a+2\n"
   ]
  },
  {
   "cell_type": "code",
   "execution_count": 2,
   "id": "cd31af77",
   "metadata": {},
   "outputs": [],
   "source": [
    "b()"
   ]
  },
  {
   "cell_type": "code",
   "execution_count": 3,
   "id": "71fbf0b9",
   "metadata": {},
   "outputs": [],
   "source": [
    "b()"
   ]
  },
  {
   "cell_type": "code",
   "execution_count": 4,
   "id": "afae3730",
   "metadata": {},
   "outputs": [],
   "source": [
    "b()"
   ]
  },
  {
   "cell_type": "code",
   "execution_count": 5,
   "id": "f0c7b7eb",
   "metadata": {},
   "outputs": [
    {
     "data": {
      "text/plain": [
       "6"
      ]
     },
     "execution_count": 5,
     "metadata": {},
     "output_type": "execute_result"
    }
   ],
   "source": [
    "a"
   ]
  },
  {
   "cell_type": "markdown",
   "id": "594f2bfc",
   "metadata": {},
   "source": [
    "Explanation...."
   ]
  },
  {
   "cell_type": "markdown",
   "id": "7b92349c",
   "metadata": {},
   "source": []
  },
  {
   "cell_type": "markdown",
   "id": "2e4e5952",
   "metadata": {},
   "source": [
    "# Question 2:"
   ]
  },
  {
   "cell_type": "code",
   "execution_count": 8,
   "id": "a1b7ef26",
   "metadata": {},
   "outputs": [],
   "source": [
    "def file_length(file_name):\n",
    "  try:\n",
    "    file = open(file_name)\n",
    "    contents = file.read()\n",
    "    file.close()\n",
    "    print(len(contents))\n",
    "  except FileNotFoundError :\n",
    "    print(\"File \"+file_name+\" not found\")"
   ]
  },
  {
   "cell_type": "code",
   "execution_count": 9,
   "id": "b81181cb",
   "metadata": {},
   "outputs": [
    {
     "name": "stdout",
     "output_type": "stream",
     "text": [
      "File hello.py not found\n"
     ]
    }
   ],
   "source": [
    "file_length('hello.py')"
   ]
  },
  {
   "cell_type": "markdown",
   "id": "ae25d488",
   "metadata": {},
   "source": []
  },
  {
   "cell_type": "markdown",
   "id": "09660195",
   "metadata": {},
   "source": [
    "# Question 3:"
   ]
  },
  {
   "cell_type": "code",
   "execution_count": 16,
   "id": "9ce07a06",
   "metadata": {},
   "outputs": [],
   "source": [
    "class Marsupial():\n",
    "  list=[]\n",
    "  def put_in_pouch(self,item):\n",
    "    self.list.append(item)\n",
    "\n",
    "  def pouch_contents(self):\n",
    "    print(self.list)\n",
    "class Kangaroo(Marsupial):\n",
    "  x=0\n",
    "  y=0\n",
    "  def __init__ (self,x,y):\n",
    "      self.x = x\n",
    "      self.y = y\n",
    "      \n",
    "  def jump(self,dx,dy):\n",
    "    self.x=self.x+dx\n",
    "    self.y=self.y+dy\n",
    "  def __str__ (self):\n",
    "    return 'I am a Kangaroo located at coordinates ('+str(self.x)+','+str(self.y)+')'\n",
    "\n",
    "\n",
    "\n",
    "\n",
    "\n"
   ]
  },
  {
   "cell_type": "code",
   "execution_count": 17,
   "id": "2a23c383",
   "metadata": {},
   "outputs": [
    {
     "name": "stdout",
     "output_type": "stream",
     "text": [
      "['doll', 'firetruck', 'kitten']\n"
     ]
    }
   ],
   "source": [
    "m = Marsupial()\n",
    "m.put_in_pouch(\"doll\")\n",
    "m.put_in_pouch('firetruck')\n",
    "m.put_in_pouch('kitten')\n",
    "m.pouch_contents()\n"
   ]
  },
  {
   "cell_type": "code",
   "execution_count": 18,
   "id": "642059c2",
   "metadata": {},
   "outputs": [
    {
     "name": "stdout",
     "output_type": "stream",
     "text": [
      "I am a Kangaroo located at coordinates (0,0)\n",
      "['doll', 'firetruck', 'kitten', 'doll', 'firetruck', 'kitten']\n",
      "I am a Kangaroo located at coordinates (3,0)\n"
     ]
    }
   ],
   "source": [
    "k = Kangaroo(0,0)\n",
    "print(k)\n",
    "k.put_in_pouch(\"doll\")\n",
    "k.put_in_pouch('firetruck')\n",
    "k.put_in_pouch('kitten')\n",
    "k.pouch_contents()\n",
    "k.jump(1,0)\n",
    "k.jump(1,0)\n",
    "k.jump(1,0)\n",
    "print(k)"
   ]
  },
  {
   "cell_type": "markdown",
   "id": "56143d99",
   "metadata": {},
   "source": []
  },
  {
   "cell_type": "markdown",
   "id": "ae27f355",
   "metadata": {},
   "source": [
    "# Question 4:"
   ]
  },
  {
   "cell_type": "code",
   "execution_count": 10,
   "id": "37b159b7",
   "metadata": {},
   "outputs": [],
   "source": [
    "def collatz(x):\n",
    "  print(x)\n",
    "  if x == 1 :\n",
    "    return\n",
    "  elif x%2 == 0:\n",
    "    x=x//2\n",
    "    collatz(x)\n",
    "  elif x%2 !=0: \n",
    "    x = 3*x +1\n",
    "    collatz(x)\n"
   ]
  },
  {
   "cell_type": "code",
   "execution_count": 11,
   "id": "808fa0b1",
   "metadata": {},
   "outputs": [
    {
     "name": "stdout",
     "output_type": "stream",
     "text": [
      "10\n",
      "5\n",
      "16\n",
      "8\n",
      "4\n",
      "2\n",
      "1\n"
     ]
    }
   ],
   "source": [
    "collatz(10)"
   ]
  },
  {
   "cell_type": "markdown",
   "id": "1e40ed73",
   "metadata": {},
   "source": []
  },
  {
   "cell_type": "markdown",
   "id": "44a5abe7",
   "metadata": {},
   "source": [
    "# Question 5:"
   ]
  },
  {
   "cell_type": "code",
   "execution_count": 12,
   "id": "35e775ef",
   "metadata": {},
   "outputs": [],
   "source": [
    "def binary(n) :\n",
    "  if n>=1:\n",
    "    binary(n//2)\n",
    "  print(n%2,end='')"
   ]
  },
  {
   "cell_type": "code",
   "execution_count": 13,
   "id": "d281ea58",
   "metadata": {},
   "outputs": [
    {
     "name": "stdout",
     "output_type": "stream",
     "text": [
      "01001"
     ]
    }
   ],
   "source": [
    "binary(9)"
   ]
  },
  {
   "cell_type": "markdown",
   "id": "871fb8cb",
   "metadata": {},
   "source": []
  },
  {
   "cell_type": "markdown",
   "id": "4fa6ffec",
   "metadata": {},
   "source": [
    "# Question 6:\n"
   ]
  },
  {
   "cell_type": "code",
   "execution_count": null,
   "id": "4e70b84e",
   "metadata": {},
   "outputs": [],
   "source": []
  },
  {
   "cell_type": "markdown",
   "id": "8bb463a1",
   "metadata": {},
   "source": [
    "# Question 7:"
   ]
  },
  {
   "cell_type": "raw",
   "id": "48da0b8c",
   "metadata": {},
   "source": [
    "class Crawler: def init(self): self.visited = set()\n",
    "\n",
    "def webdir(self, url, depth, indent): links = analyze(url) sekf.visited.add(url)\n",
    "\n",
    "for link in links:\n",
    "    if link not in self.visited:\n",
    "        try:\n",
    "            if depth >= 0:\n",
    "\n",
    "                indent = 0\n",
    "\n",
    "                for click in depth: \n",
    "\n",
    "                    self.webdir(link, depth, indent)\n",
    "                    print(url)\n",
    "                    self.indent =+1\n",
    "\n",
    "            else:\n",
    "                pass\n",
    "        except:\n",
    "            pass\n",
    "\n",
    "webdir('http://reed.cs.depaul.edu/lperkovic/csc242/test1.html', 2, 0)\n",
    "\n"
   ]
  },
  {
   "cell_type": "raw",
   "id": "bd0b7b8a",
   "metadata": {},
   "source": []
  },
  {
   "cell_type": "markdown",
   "id": "757558cd",
   "metadata": {},
   "source": [
    "# Question 8:"
   ]
  },
  {
   "cell_type": "code",
   "execution_count": null,
   "id": "fd848e87",
   "metadata": {},
   "outputs": [],
   "source": []
  },
  {
   "cell_type": "markdown",
   "id": "91a8b48c",
   "metadata": {},
   "source": [
    "# Question 9:"
   ]
  },
  {
   "cell_type": "code",
   "execution_count": 25,
   "id": "21682d7b",
   "metadata": {},
   "outputs": [
    {
     "name": "stdout",
     "output_type": "stream",
     "text": [
      "['THE', 'QUICK', 'BROWN', 'FOX', 'JUMPS', 'OVER', 'THE', 'LAZY', 'DOG']\n",
      "['the', 'quick', 'brown', 'fox', 'jumps', 'over', 'the', 'lazy', 'dog']\n",
      "[3, 5, 5, 3, 5, 4, 3, 4, 3]\n",
      "[['THE', 'the', 3], ['QUICK', 'quick', 5], ['BROWN', 'brown', 5], ['FOX', 'fox', 3], ['JUMPS', 'jumps', 5], ['OVER', 'over', 4], ['THE', 'the', 3], ['LAZY', 'lazy', 4], ['DOG', 'dog', 3]]\n",
      "[None, 'quick', 'brown', None, 'jumps', None, None, None, None]\n"
     ]
    }
   ],
   "source": [
    " words = ['The', 'quick', 'brown', 'fox', 'jumps', 'over',\n",
    "'the', 'lazy', 'dog']\n",
    "\n",
    "def more(word):\n",
    "  if len(word)>4 :\n",
    "    return word\n",
    "  \n",
    "upper= [ letter.upper() for letter in words  ]\n",
    "lower= [ letter.lower() for letter in words  ]\n",
    "length= [len(letter) for letter in words  ]\n",
    "triplet=[[letter.upper()  ,letter.lower() ,len(letter) ] for letter in words]\n",
    "length= [len(letter) for letter in words  ]\n",
    "lengthMorethan4= [more(letter) for letter in words  ]\n",
    "print(upper)\n",
    "print(lower)\n",
    "print(length)\n",
    "print(triplet)\n",
    "print(lengthMorethan4)\n"
   ]
  },
  {
   "cell_type": "code",
   "execution_count": null,
   "id": "87fc472b",
   "metadata": {},
   "outputs": [],
   "source": []
  }
 ],
 "metadata": {
  "kernelspec": {
   "display_name": "Python 3",
   "language": "python",
   "name": "python3"
  },
  "language_info": {
   "codemirror_mode": {
    "name": "ipython",
    "version": 3
   },
   "file_extension": ".py",
   "mimetype": "text/x-python",
   "name": "python",
   "nbconvert_exporter": "python",
   "pygments_lexer": "ipython3",
   "version": "3.8.8"
  }
 },
 "nbformat": 4,
 "nbformat_minor": 5
}
